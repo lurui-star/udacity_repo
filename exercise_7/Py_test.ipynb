{
 "cells": [
  {
   "cell_type": "code",
   "execution_count": 1,
   "id": "dd6fd5e6-f247-4fd0-88cf-61cf2e8178dc",
   "metadata": {},
   "outputs": [],
   "source": [
    "import pytest\n",
    "import wandb\n",
    "import pandas as pd"
   ]
  },
  {
   "cell_type": "code",
   "execution_count": 2,
   "id": "567acbab-fc6c-4d7f-96e0-d5457a461d0a",
   "metadata": {},
   "outputs": [
    {
     "name": "stderr",
     "output_type": "stream",
     "text": [
      "\u001b[34m\u001b[1mwandb\u001b[0m: Currently logged in as: \u001b[33mlurui0421\u001b[0m (\u001b[33mruilu\u001b[0m). Use \u001b[1m`wandb login --relogin`\u001b[0m to force relogin\n"
     ]
    },
    {
     "data": {
      "text/html": [
       "Tracking run with wandb version 0.16.2"
      ],
      "text/plain": [
       "<IPython.core.display.HTML object>"
      ]
     },
     "metadata": {},
     "output_type": "display_data"
    },
    {
     "data": {
      "text/html": [
       "Run data is saved locally in <code>/Users/ruilu/udacity_repo/exercise_7/wandb/run-20240124_211839-v21b6zrv</code>"
      ],
      "text/plain": [
       "<IPython.core.display.HTML object>"
      ]
     },
     "metadata": {},
     "output_type": "display_data"
    },
    {
     "data": {
      "text/html": [
       "Syncing run <strong><a href='https://wandb.ai/ruilu/exercise_7/runs/v21b6zrv' target=\"_blank\">effortless-dust-4</a></strong> to <a href='https://wandb.ai/ruilu/exercise_7' target=\"_blank\">Weights & Biases</a> (<a href='https://wandb.me/run' target=\"_blank\">docs</a>)<br/>"
      ],
      "text/plain": [
       "<IPython.core.display.HTML object>"
      ]
     },
     "metadata": {},
     "output_type": "display_data"
    },
    {
     "data": {
      "text/html": [
       " View project at <a href='https://wandb.ai/ruilu/exercise_7' target=\"_blank\">https://wandb.ai/ruilu/exercise_7</a>"
      ],
      "text/plain": [
       "<IPython.core.display.HTML object>"
      ]
     },
     "metadata": {},
     "output_type": "display_data"
    },
    {
     "data": {
      "text/html": [
       " View run at <a href='https://wandb.ai/ruilu/exercise_7/runs/v21b6zrv' target=\"_blank\">https://wandb.ai/ruilu/exercise_7/runs/v21b6zrv</a>"
      ],
      "text/plain": [
       "<IPython.core.display.HTML object>"
      ]
     },
     "metadata": {},
     "output_type": "display_data"
    }
   ],
   "source": [
    "run = wandb.init(project=\"exercise_7\", job_type=\"data_tests\")"
   ]
  },
  {
   "cell_type": "code",
   "execution_count": 19,
   "id": "ce982d54-dcd3-40c1-9b5e-010f26b7db29",
   "metadata": {},
   "outputs": [],
   "source": [
    "@pytest.fixture(scope=\"session\")\n",
    "def data():\n",
    "\n",
    "    local_path = run.use_artifact(\"exercise_5/preprocessed_data.csv:latest\").file()\n",
    "    df = pd.read_csv(local_path, low_memory=False)\n",
    "\n",
    "    return df\n",
    "\n",
    "def test_column_presence_and_type(data):\n",
    "\n",
    "    required_columns = {\n",
    "        \"time_signature\": pd.api.types.is_integer_dtype,\n",
    "        \"key\": pd.api.types.is_integer_dtype,\n",
    "        \"danceability\": pd.api.types.is_float_dtype,\n",
    "        \"energy\": pd.api.types.is_float_dtype,\n",
    "        \"loudness\": pd.api.types.is_float_dtype,\n",
    "        \"speechiness\": pd.api.types.is_float_dtype,\n",
    "        \"acousticness\": pd.api.types.is_float_dtype,\n",
    "        \"instrumentalness\": pd.api.types.is_float_dtype,\n",
    "        \"liveness\": pd.api.types.is_float_dtype,\n",
    "        \"valence\": pd.api.types.is_float_dtype,\n",
    "        \"tempo\": pd.api.types.is_float_dtype,\n",
    "        \"duration_ms\": pd.api.types.is_integer_dtype,  # This is integer, not float as one might expect\n",
    "        \"text_feature\": pd.api.types.is_string_dtype,\n",
    "        \"genre\": pd.api.types.is_string_dtype\n",
    "    }\n",
    "\n",
    "    # Check column presence\n",
    "    assert set(data.columns.values).issuperset(set(required_columns.keys()))\n",
    "\n",
    "    for col_name, format_verification_funct in required_columns.items():\n",
    "\n",
    "        assert format_verification_funct(data[col_name]), f\"Column {col_name} failed test {format_verification_funct}\"\n"
   ]
  },
  {
   "cell_type": "code",
   "execution_count": 18,
   "id": "461dd495-22dc-46af-a30c-f315db379254",
   "metadata": {},
   "outputs": [],
   "source": [
    "def test_class_names(data):\n",
    "\n",
    "    # Check that only the known classes are present\n",
    "    known_classes = [\n",
    "        \"Dark Trap\",\n",
    "        \"Underground Rap\",\n",
    "        \"Trap Metal\",\n",
    "        \"Emo\",\n",
    "        \"Rap\",\n",
    "        \"RnB\",\n",
    "        \"Pop\",\n",
    "        \"Hiphop\",\n",
    "        \"techhouse\",\n",
    "        \"techno\",\n",
    "        \"trance\",\n",
    "        \"psytrance\",\n",
    "        \"trap\",\n",
    "        \"dnb\",\n",
    "        \"hardstyle\",\n",
    "    ]\n",
    "\n",
    "    assert data[\"genre\"].isin(known_classes).all()\n",
    "\n",
    "\n",
    "def test_column_ranges(data):\n",
    "\n",
    "    ranges = {\n",
    "        \"time_signature\": (1, 5),\n",
    "        \"key\": (0, 11),\n",
    "        \"danceability\": (0, 1),\n",
    "        \"energy\": (0, 1),\n",
    "        \"loudness\": (-35, 5),\n",
    "        \"speechiness\": (0, 1),\n",
    "        \"acousticness\": (0, 1),\n",
    "        \"instrumentalness\": (0, 1),\n",
    "        \"liveness\": (0, 1),\n",
    "        \"valence\": (0, 1),\n",
    "        \"tempo\": (50, 250),\n",
    "        \"duration_ms\": (20000, 1000000),\n",
    "    }\n",
    "\n",
    "    for col_name, (minimum, maximum) in ranges.items():\n",
    "\n",
    "        assert data[col_name].dropna().between(minimum, maximum).all(), (\n",
    "            f\"Column {col_name} failed the test. Should be between {minimum} and {maximum}, \"\n",
    "            f\"instead min={data[col_name].min()} and max={data[col_name].max()}\"\n",
    "        )\n"
   ]
  },
  {
   "cell_type": "code",
   "execution_count": 37,
   "id": "e92853b6-49ed-4024-ac3d-9b687cb6aa05",
   "metadata": {
    "scrolled": true
   },
   "outputs": [
    {
     "name": "stdout",
     "output_type": "stream",
     "text": [
      "\u001b[1m============================= test session starts ==============================\u001b[0m\n",
      "platform darwin -- Python 3.11.5, pytest-7.4.0, pluggy-1.0.0 -- /Users/ruilu/anaconda3/bin/python\n",
      "cachedir: .pytest_cache\n",
      "rootdir: /Users/ruilu/udacity_repo/exercise_7\n",
      "plugins: anyio-3.5.0, typeguard-4.1.5\n",
      "collected 3 items                                                              \u001b[0m\u001b[1m\n",
      "\n",
      "test_data.py::test_column_presence_and_type \u001b[32mPASSED\u001b[0m\u001b[33m                       [ 33%]\u001b[0m\n",
      "test_data.py::test_class_names \u001b[32mPASSED\u001b[0m\u001b[33m                                    [ 66%]\u001b[0m\n",
      "test_data.py::test_column_ranges \u001b[32mPASSED\u001b[0m\u001b[33m                                  [100%]\u001b[0m\n",
      "\n",
      "\u001b[33m=============================== warnings summary ===============================\u001b[0m\n",
      "../../anaconda3/lib/python3.11/site-packages/wandb/sdk/launch/builder/build.py:11\n",
      "  /Users/ruilu/anaconda3/lib/python3.11/site-packages/wandb/sdk/launch/builder/build.py:11: DeprecationWarning: pkg_resources is deprecated as an API. See https://setuptools.pypa.io/en/latest/pkg_resources.html\n",
      "    import pkg_resources\n",
      "\n",
      "../../anaconda3/lib/python3.11/site-packages/pkg_resources/__init__.py:2871\n",
      "  /Users/ruilu/anaconda3/lib/python3.11/site-packages/pkg_resources/__init__.py:2871: DeprecationWarning: Deprecated call to `pkg_resources.declare_namespace('mpl_toolkits')`.\n",
      "  Implementing implicit namespace packages (as specified in PEP 420) is preferred to `pkg_resources.declare_namespace`. See https://setuptools.pypa.io/en/latest/references/keywords.html#keyword-namespace-packages\n",
      "    declare_namespace(pkg)\n",
      "\n",
      "../../anaconda3/lib/python3.11/site-packages/pkg_resources/__init__.py:2871\n",
      "  /Users/ruilu/anaconda3/lib/python3.11/site-packages/pkg_resources/__init__.py:2871: DeprecationWarning: Deprecated call to `pkg_resources.declare_namespace('google')`.\n",
      "  Implementing implicit namespace packages (as specified in PEP 420) is preferred to `pkg_resources.declare_namespace`. See https://setuptools.pypa.io/en/latest/references/keywords.html#keyword-namespace-packages\n",
      "    declare_namespace(pkg)\n",
      "\n",
      "../../anaconda3/lib/python3.11/site-packages/pkg_resources/__init__.py:2871\n",
      "  /Users/ruilu/anaconda3/lib/python3.11/site-packages/pkg_resources/__init__.py:2871: DeprecationWarning: Deprecated call to `pkg_resources.declare_namespace('ruamel')`.\n",
      "  Implementing implicit namespace packages (as specified in PEP 420) is preferred to `pkg_resources.declare_namespace`. See https://setuptools.pypa.io/en/latest/references/keywords.html#keyword-namespace-packages\n",
      "    declare_namespace(pkg)\n",
      "\n",
      "../../anaconda3/lib/python3.11/site-packages/pkg_resources/__init__.py:2871\n",
      "../../anaconda3/lib/python3.11/site-packages/pkg_resources/__init__.py:2871\n",
      "../../anaconda3/lib/python3.11/site-packages/pkg_resources/__init__.py:2871\n",
      "../../anaconda3/lib/python3.11/site-packages/pkg_resources/__init__.py:2871\n",
      "../../anaconda3/lib/python3.11/site-packages/pkg_resources/__init__.py:2871\n",
      "../../anaconda3/lib/python3.11/site-packages/pkg_resources/__init__.py:2871\n",
      "  /Users/ruilu/anaconda3/lib/python3.11/site-packages/pkg_resources/__init__.py:2871: DeprecationWarning: Deprecated call to `pkg_resources.declare_namespace('sphinxcontrib')`.\n",
      "  Implementing implicit namespace packages (as specified in PEP 420) is preferred to `pkg_resources.declare_namespace`. See https://setuptools.pypa.io/en/latest/references/keywords.html#keyword-namespace-packages\n",
      "    declare_namespace(pkg)\n",
      "\n",
      "../../anaconda3/lib/python3.11/site-packages/pkg_resources/__init__.py:2871\n",
      "  /Users/ruilu/anaconda3/lib/python3.11/site-packages/pkg_resources/__init__.py:2871: DeprecationWarning: Deprecated call to `pkg_resources.declare_namespace('zope')`.\n",
      "  Implementing implicit namespace packages (as specified in PEP 420) is preferred to `pkg_resources.declare_namespace`. See https://setuptools.pypa.io/en/latest/references/keywords.html#keyword-namespace-packages\n",
      "    declare_namespace(pkg)\n",
      "\n",
      "-- Docs: https://docs.pytest.org/en/stable/how-to/capture-warnings.html\n",
      "\u001b[33m======================== \u001b[32m3 passed\u001b[0m, \u001b[33m\u001b[1m11 warnings\u001b[0m\u001b[33m in 8.79s\u001b[0m\u001b[33m ========================\u001b[0m\n"
     ]
    }
   ],
   "source": [
    "!pytest . -vv "
   ]
  },
  {
   "cell_type": "code",
   "execution_count": null,
   "id": "5766d9c6-4e33-48f6-b0dd-1b602f8d141a",
   "metadata": {},
   "outputs": [],
   "source": []
  }
 ],
 "metadata": {
  "kernelspec": {
   "display_name": "Python 3 (ipykernel)",
   "language": "python",
   "name": "python3"
  },
  "language_info": {
   "codemirror_mode": {
    "name": "ipython",
    "version": 3
   },
   "file_extension": ".py",
   "mimetype": "text/x-python",
   "name": "python",
   "nbconvert_exporter": "python",
   "pygments_lexer": "ipython3",
   "version": "3.11.5"
  }
 },
 "nbformat": 4,
 "nbformat_minor": 5
}
