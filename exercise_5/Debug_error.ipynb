{
 "cells": [
  {
   "cell_type": "code",
   "execution_count": 1,
   "id": "c5f5144d-696c-40a2-8a55-95f8b74fdecf",
   "metadata": {},
   "outputs": [],
   "source": [
    "import os\n",
    "import pandas as pd\n",
    "import wandb\n"
   ]
  },
  {
   "cell_type": "code",
   "execution_count": 2,
   "id": "f6e65fd6-9101-4753-b52c-1b950a99b81f",
   "metadata": {},
   "outputs": [
    {
     "name": "stderr",
     "output_type": "stream",
     "text": [
      "\u001b[34m\u001b[1mwandb\u001b[0m: Currently logged in as: \u001b[33mlurui0421\u001b[0m (\u001b[33mruilu\u001b[0m). Use \u001b[1m`wandb login --relogin`\u001b[0m to force relogin\n"
     ]
    },
    {
     "data": {
      "text/html": [
       "Tracking run with wandb version 0.16.2"
      ],
      "text/plain": [
       "<IPython.core.display.HTML object>"
      ]
     },
     "metadata": {},
     "output_type": "display_data"
    },
    {
     "data": {
      "text/html": [
       "Run data is saved locally in <code>/Users/ruilu/udacity_repo/exercise_5/wandb/run-20240121_155418-58ehzl9h</code>"
      ],
      "text/plain": [
       "<IPython.core.display.HTML object>"
      ]
     },
     "metadata": {},
     "output_type": "display_data"
    },
    {
     "data": {
      "text/html": [
       "Syncing run <strong><a href='https://wandb.ai/ruilu/exercise_5/runs/58ehzl9h' target=\"_blank\">twilight-forest-21</a></strong> to <a href='https://wandb.ai/ruilu/exercise_5' target=\"_blank\">Weights & Biases</a> (<a href='https://wandb.me/run' target=\"_blank\">docs</a>)<br/>"
      ],
      "text/plain": [
       "<IPython.core.display.HTML object>"
      ]
     },
     "metadata": {},
     "output_type": "display_data"
    },
    {
     "data": {
      "text/html": [
       " View project at <a href='https://wandb.ai/ruilu/exercise_5' target=\"_blank\">https://wandb.ai/ruilu/exercise_5</a>"
      ],
      "text/plain": [
       "<IPython.core.display.HTML object>"
      ]
     },
     "metadata": {},
     "output_type": "display_data"
    },
    {
     "data": {
      "text/html": [
       " View run at <a href='https://wandb.ai/ruilu/exercise_5/runs/58ehzl9h' target=\"_blank\">https://wandb.ai/ruilu/exercise_5/runs/58ehzl9h</a>"
      ],
      "text/plain": [
       "<IPython.core.display.HTML object>"
      ]
     },
     "metadata": {},
     "output_type": "display_data"
    }
   ],
   "source": [
    "run = wandb.init(project=\"exercise_5\", job_type=\"process_data\")\n",
    "artifact = run.use_artifact(\"ruilu/exercise_4/genres_mod.parquet:v0\")"
   ]
  },
  {
   "cell_type": "code",
   "execution_count": 6,
   "id": "96718ae8-1710-4898-a899-cc56d5f2e5f5",
   "metadata": {},
   "outputs": [],
   "source": [
    "artifact_path = artifact.file()"
   ]
  },
  {
   "cell_type": "code",
   "execution_count": 7,
   "id": "93b3ac1e-3704-4bd7-8953-a563f48c0b5a",
   "metadata": {},
   "outputs": [],
   "source": [
    "df = pd.read_parquet(artifact_path)"
   ]
  },
  {
   "cell_type": "code",
   "execution_count": 11,
   "id": "2c6987f7-dedb-4625-a921-7dd2401ad490",
   "metadata": {},
   "outputs": [
    {
     "data": {
      "text/plain": [
       "'/Users/ruilu/udacity_repo/exercise_5'"
      ]
     },
     "execution_count": 11,
     "metadata": {},
     "output_type": "execute_result"
    }
   ],
   "source": [
    "os. getcwd() "
   ]
  },
  {
   "cell_type": "code",
   "execution_count": 9,
   "id": "34c3991c-e1a1-4c10-8578-5c46c73effa2",
   "metadata": {},
   "outputs": [
    {
     "data": {
      "text/plain": [
       "'./artifacts/genres_mod.parquet:v0/genres_mod.parquet'"
      ]
     },
     "execution_count": 9,
     "metadata": {},
     "output_type": "execute_result"
    }
   ],
   "source": [
    "artifact_path"
   ]
  },
  {
   "cell_type": "code",
   "execution_count": 5,
   "id": "5d8b3f21-c91c-40e1-952c-98edb9c67095",
   "metadata": {},
   "outputs": [],
   "source": [
    "df = df.drop_duplicates().reset_index(drop=True)"
   ]
  },
  {
   "cell_type": "code",
   "execution_count": 6,
   "id": "ed0b6891-718e-4f3c-bcdf-52e89abfaf88",
   "metadata": {},
   "outputs": [],
   "source": [
    "df['title'].fillna(value='', inplace=True)\n",
    "df['song_name'].fillna(value='', inplace=True)\n",
    "df['text_feature'] = df['title'] + ' ' + df['song_name']"
   ]
  },
  {
   "cell_type": "code",
   "execution_count": 7,
   "id": "bc2dc49e-d2d8-4f5f-867d-212ce3620700",
   "metadata": {},
   "outputs": [],
   "source": [
    "filename = \"processed_data.csv\"\n",
    "df.to_csv(filename)"
   ]
  },
  {
   "cell_type": "code",
   "execution_count": 8,
   "id": "9ade7343-5da5-4d2f-92e3-b69b92a7fca7",
   "metadata": {},
   "outputs": [],
   "source": [
    "artifact = wandb.Artifact(\n",
    "        name=\"preprocessed_data.csv\",\n",
    "        type=\"clean_data\" ,\n",
    "        description=\"Data after preprocessing\",\n",
    "    )"
   ]
  },
  {
   "cell_type": "code",
   "execution_count": 9,
   "id": "47ac381f-712c-4ca1-8aab-fba874825a39",
   "metadata": {},
   "outputs": [
    {
     "data": {
      "text/plain": [
       "ArtifactManifestEntry(path='processed_data.csv', digest='LZJGN53tDiluJP5cPmk5pw==', size=6734863, local_path='/Users/ruilu/Library/Application Support/wandb/artifacts/staging/tmpr8qwystl')"
      ]
     },
     "execution_count": 9,
     "metadata": {},
     "output_type": "execute_result"
    }
   ],
   "source": [
    "artifact.add_file(filename)"
   ]
  },
  {
   "cell_type": "code",
   "execution_count": 10,
   "id": "485b1938-be17-48c4-8cf4-7fcf6d985a33",
   "metadata": {},
   "outputs": [
    {
     "data": {
      "text/plain": [
       "<Artifact preprocessed_data.csv>"
      ]
     },
     "execution_count": 10,
     "metadata": {},
     "output_type": "execute_result"
    }
   ],
   "source": [
    "run.log_artifact(artifact)"
   ]
  },
  {
   "cell_type": "code",
   "execution_count": 11,
   "id": "8204216b-185d-40c3-a3fd-9cc425ce262c",
   "metadata": {},
   "outputs": [],
   "source": [
    "os.remove(filename)"
   ]
  },
  {
   "cell_type": "code",
   "execution_count": null,
   "id": "3204ac80-17f9-4327-8a23-24f56d50b84f",
   "metadata": {},
   "outputs": [],
   "source": []
  }
 ],
 "metadata": {
  "kernelspec": {
   "display_name": "Python 3 (ipykernel)",
   "language": "python",
   "name": "python3"
  },
  "language_info": {
   "codemirror_mode": {
    "name": "ipython",
    "version": 3
   },
   "file_extension": ".py",
   "mimetype": "text/x-python",
   "name": "python",
   "nbconvert_exporter": "python",
   "pygments_lexer": "ipython3",
   "version": "3.11.5"
  }
 },
 "nbformat": 4,
 "nbformat_minor": 5
}
