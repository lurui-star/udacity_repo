{
 "cells": [
  {
   "cell_type": "code",
   "execution_count": 1,
   "id": "bf61982e-2ea3-43de-8d78-b4cf4907263b",
   "metadata": {},
   "outputs": [],
   "source": [
    "import argparse\n",
    "import logging\n",
    "import os\n",
    "import tempfile\n",
    "\n",
    "import pandas as pd\n",
    "import wandb\n",
    "from sklearn.model_selection import train_test_split"
   ]
  },
  {
   "cell_type": "code",
   "execution_count": 2,
   "id": "1b23056e-2b87-4ed1-b5da-26a34b1b8fcd",
   "metadata": {},
   "outputs": [
    {
     "name": "stderr",
     "output_type": "stream",
     "text": [
      "\u001b[34m\u001b[1mwandb\u001b[0m: Currently logged in as: \u001b[33mlurui0421\u001b[0m (\u001b[33mruilu\u001b[0m). Use \u001b[1m`wandb login --relogin`\u001b[0m to force relogin\n"
     ]
    },
    {
     "data": {
      "text/html": [
       "Tracking run with wandb version 0.16.2"
      ],
      "text/plain": [
       "<IPython.core.display.HTML object>"
      ]
     },
     "metadata": {},
     "output_type": "display_data"
    },
    {
     "data": {
      "text/html": [
       "Run data is saved locally in <code>/Users/ruilu/udacity_repo/exercise_6/wandb/run-20240121_162900-m8jtio2i</code>"
      ],
      "text/plain": [
       "<IPython.core.display.HTML object>"
      ]
     },
     "metadata": {},
     "output_type": "display_data"
    },
    {
     "data": {
      "text/html": [
       "Syncing run <strong><a href='https://wandb.ai/ruilu/exercise_6/runs/m8jtio2i' target=\"_blank\">resilient-sea-1</a></strong> to <a href='https://wandb.ai/ruilu/exercise_6' target=\"_blank\">Weights & Biases</a> (<a href='https://wandb.me/run' target=\"_blank\">docs</a>)<br/>"
      ],
      "text/plain": [
       "<IPython.core.display.HTML object>"
      ]
     },
     "metadata": {},
     "output_type": "display_data"
    },
    {
     "data": {
      "text/html": [
       " View project at <a href='https://wandb.ai/ruilu/exercise_6' target=\"_blank\">https://wandb.ai/ruilu/exercise_6</a>"
      ],
      "text/plain": [
       "<IPython.core.display.HTML object>"
      ]
     },
     "metadata": {},
     "output_type": "display_data"
    },
    {
     "data": {
      "text/html": [
       " View run at <a href='https://wandb.ai/ruilu/exercise_6/runs/m8jtio2i' target=\"_blank\">https://wandb.ai/ruilu/exercise_6/runs/m8jtio2i</a>"
      ],
      "text/plain": [
       "<IPython.core.display.HTML object>"
      ]
     },
     "metadata": {},
     "output_type": "display_data"
    }
   ],
   "source": [
    "run = wandb.init(project=\"exercise_6\", job_type=\"split_data\")"
   ]
  },
  {
   "cell_type": "code",
   "execution_count": 3,
   "id": "0a04a67f-3e91-4dd3-bcf9-8fb6caced1e2",
   "metadata": {},
   "outputs": [],
   "source": [
    "artifact = run.use_artifact(\"exercise_5/preprocessed_data.csv:latest\")\n",
    "artifact_path = artifact.file()"
   ]
  },
  {
   "cell_type": "code",
   "execution_count": 4,
   "id": "b538a13e-ffea-44aa-b977-085f5e2961ca",
   "metadata": {},
   "outputs": [],
   "source": [
    "df = pd.read_csv(artifact_path, low_memory=False)"
   ]
  },
  {
   "cell_type": "code",
   "execution_count": 8,
   "id": "e7c1ec9b-b919-4f9b-b5f2-176435af202f",
   "metadata": {},
   "outputs": [],
   "source": [
    "splits = {}\n"
   ]
  },
  {
   "cell_type": "code",
   "execution_count": 13,
   "id": "d5e648f1-279e-418b-b74a-c20b2f306ab7",
   "metadata": {},
   "outputs": [],
   "source": [
    "splits[\"train\"], splits[\"test\"] = train_test_split(df,\n",
    "                                                   test_size=0.3,\n",
    "                                                   random_state=42,\n",
    "                                                   stratify=df[\"genre\"] if \"genre\" != 'null' else None, )"
   ]
  },
  {
   "cell_type": "code",
   "execution_count": 20,
   "id": "ba9ec2e4-dbe6-4fa1-b4ce-41699bbb5a77",
   "metadata": {},
   "outputs": [
    {
     "ename": "SyntaxError",
     "evalue": "f-string: expecting '}' (1466692297.py, line 17)",
     "output_type": "error",
     "traceback": [
      "\u001b[0;36m  Cell \u001b[0;32mIn[20], line 17\u001b[0;36m\u001b[0m\n\u001b[0;31m    description=f\"{split} split of dataset {\"ruilu/exercise_5/preprocessed_data.csv:latest\"}\",\u001b[0m\n\u001b[0m                                             ^\u001b[0m\n\u001b[0;31mSyntaxError\u001b[0m\u001b[0;31m:\u001b[0m f-string: expecting '}'\n"
     ]
    }
   ],
   "source": [
    "for split, df in splits.items():\n",
    "\n",
    "            # Make the artifact name from the provided root plus the name of the split\n",
    "            artifact_name = f\"{args.artifact_root}_{split}.csv\"\n",
    "\n",
    "            # Get the path on disk within the with tempfile.TemporaryDirectory() as tmp_dir: temp directory\n",
    "            temp_path = os.path.join(tmp_dir, artifact_name)\n",
    "\n",
    "            logger.info(f\"Uploading the {split} dataset to {artifact_name}\")\n",
    "\n",
    "            # Save then upload to W&B\n",
    "            df.to_csv(temp_path)\n",
    "\n",
    "            artifact = wandb.Artifact(\n",
    "                name=artifact_name,\n",
    "                type=args.artifact_type,\n",
    "                description=f\"{split} split of dataset {\"ruilu/exercise_5/preprocessed_data.csv:latest\"}\",\n",
    "            )\n",
    "            artifact.add_file(temp_path)"
   ]
  },
  {
   "cell_type": "code",
   "execution_count": null,
   "id": "54912acd-bf1b-4fce-9f4e-ff2bbc12950d",
   "metadata": {},
   "outputs": [],
   "source": []
  }
 ],
 "metadata": {
  "kernelspec": {
   "display_name": "Python 3 (ipykernel)",
   "language": "python",
   "name": "python3"
  },
  "language_info": {
   "codemirror_mode": {
    "name": "ipython",
    "version": 3
   },
   "file_extension": ".py",
   "mimetype": "text/x-python",
   "name": "python",
   "nbconvert_exporter": "python",
   "pygments_lexer": "ipython3",
   "version": "3.11.5"
  }
 },
 "nbformat": 4,
 "nbformat_minor": 5
}
